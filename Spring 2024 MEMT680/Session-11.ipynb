{
 "cells": [
  {
   "cell_type": "markdown",
   "metadata": {},
   "source": [
    "## From cells to packs\n",
    "\n",
    "### Cell form factors: pouch, cylindrical, prismatic \n",
    "\n",
    "### Series and parallel connections \n",
    "\n",
    "### Typical e-scooter, micromobility pack \n",
    "\n",
    "### Typical EV pack\n",
    "\n",
    "### Tesla Model S case study \n"
   ]
  }
 ],
 "metadata": {
  "language_info": {
   "name": "python"
  }
 },
 "nbformat": 4,
 "nbformat_minor": 2
}
