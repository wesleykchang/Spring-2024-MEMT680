{
 "cells": [
  {
   "cell_type": "markdown",
   "metadata": {},
   "source": [
    "## Scaling: what it takes to commercialize a new battery technology\n",
    "\n",
    "### From 1991 to 2014: the rise of Li-ion, challenges and successes \n",
    "\n",
    "### 2010 to 2024: cost declines of Li-ion with scale up \n",
    "\n",
    "### 24M, Pellion, \n",
    "\n",
    "### 2010s: grid storage batteries \n",
    "\n",
    "### from cell to \"pilot\" \n",
    "\n",
    "### TRL scale, seed grants, DOE funding, 2020s IPO craze\n",
    "\n",
    "### SES, Quantumscape, \n",
    "\n"
   ]
  }
 ],
 "metadata": {
  "language_info": {
   "name": "python"
  }
 },
 "nbformat": 4,
 "nbformat_minor": 2
}
