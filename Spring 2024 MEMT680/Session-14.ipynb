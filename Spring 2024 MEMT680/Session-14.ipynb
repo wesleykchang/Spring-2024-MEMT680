{
 "cells": [
  {
   "cell_type": "markdown",
   "metadata": {},
   "source": [
    "## Beyond lithium\n",
    "\n",
    "### Lithium metal, lithium sulfur lithium air\n",
    "\n",
    "### Sodium-ion analogues\n",
    "\n",
    "### Mg-ion \n",
    "\n",
    "### K-ion\n",
    "\n",
    "### Ca-ion..?\n",
    "\n",
    "### Na-S, Mg-S\n",
    "\n",
    "### ? "
   ]
  }
 ],
 "metadata": {
  "language_info": {
   "name": "python"
  }
 },
 "nbformat": 4,
 "nbformat_minor": 2
}
