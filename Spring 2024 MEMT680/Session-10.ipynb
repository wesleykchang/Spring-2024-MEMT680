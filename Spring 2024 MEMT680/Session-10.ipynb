{
 "cells": [
  {
   "cell_type": "markdown",
   "metadata": {},
   "source": [
    "## Battery characterization: spectroscopy and microscopy\n",
    "\n",
    "### X-ray photoelectron spectroscopy for surface chemistry\n",
    "\n",
    "X-rays are generated and bombard the surface of a sample (top few monolayers). This causes electrons (both core and valence) to be ejected. The kinetic energy of the ejected electrons is related to their binding energies. This provides information on the local chemical states of each species. For instance, whether there was LiF or Li2O on the surface. To probe further into the surface, an Argon ion gun can be used to depth profile, or etch the surface in successive steps. XPS has historically been useful for characterizing the SEI, but may be prone to false readings due to reactions in the XPS. It is a post mortem technique and must be done in ultra high vacuum. \n",
    "\n",
    "### X-ray diffraction for bulk crystallography\n",
    "\n",
    "XRD is useful for probing the crystallography of electrodes. \n",
    "\n",
    "### Neutron imaging\n",
    "\n",
    "\n",
    "### Raman and FTIR examples\n",
    "\n",
    "### NMR spectroscopy and MRI imaging \n",
    "\n",
    "Nuclear magnetic resonance spectroscopy"
   ]
  },
  {
   "cell_type": "markdown",
   "metadata": {},
   "source": [
    "### Scanning electron microscopy of electrode microstructure\n",
    "\n",
    "### Cryo-TEM \n",
    "\n",
    "### GC-MS, DEMS for gas detection\n",
    "\n",
    "### ICP, GC for impurity detection "
   ]
  }
 ],
 "metadata": {
  "language_info": {
   "name": "python"
  }
 },
 "nbformat": 4,
 "nbformat_minor": 2
}
