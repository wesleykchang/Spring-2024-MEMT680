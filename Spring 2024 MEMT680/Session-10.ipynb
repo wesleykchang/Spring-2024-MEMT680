{
 "cells": [
  {
   "cell_type": "markdown",
   "metadata": {},
   "source": [
    "## Battery characterization: spectroscopy and microscopy\n",
    "\n",
    "### X-ray photoelectron spectroscopy for surface chemistry\n",
    "\n",
    "### X-ray diffraction for bulk crystallography\n",
    "\n",
    "### Neutron imaging\n",
    "\n",
    "### Scanning electron microscopy of electrode microstructure\n",
    "\n",
    "### Elemental analysis\n",
    "\n",
    "### Raman and FTIR examples\n",
    "\n",
    "### NMR spectroscopy and MRI imaging \n",
    "\n",
    "### Cryo-TEM \n",
    "\n",
    "### GC-MS, DEMS for gas detection\n",
    "\n",
    "### ICP, GC for impurity detection "
   ]
  }
 ],
 "metadata": {
  "language_info": {
   "name": "python"
  }
 },
 "nbformat": 4,
 "nbformat_minor": 2
}
