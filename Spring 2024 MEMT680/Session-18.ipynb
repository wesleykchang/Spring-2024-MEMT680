{
 "cells": [
  {
   "cell_type": "markdown",
   "metadata": {},
   "source": [
    "## Renewable energy conversion of industrial fuels and chemicals\n",
    "\n",
    "### Transport and the grid\n",
    "\n",
    "### Everything else: chemicals and manufacturing industry. Steel, ammonia cement\n",
    "\n",
    "### Ammonia and Haber-Bosch\n",
    "\n",
    "### CO2 reduction \n",
    "\n",
    "### Electrocatalysis \n",
    "\n",
    "### Modern metallurgy "
   ]
  }
 ],
 "metadata": {
  "language_info": {
   "name": "python"
  }
 },
 "nbformat": 4,
 "nbformat_minor": 2
}
