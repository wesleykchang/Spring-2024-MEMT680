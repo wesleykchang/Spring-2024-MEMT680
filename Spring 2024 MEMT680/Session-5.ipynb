{
 "cells": [
  {
   "cell_type": "markdown",
   "metadata": {},
   "source": [
    "## Li-ion battery negative electrodes\n",
    "\n",
    "### Carbonaceous materials: hard carbon to graphite\n",
    "\n",
    "### Artificial versus natural graphite\n",
    "\n",
    "### Silicon\n",
    "\n",
    "### Li metal \n",
    "\n",
    "### Hard carbon for Na-ion  "
   ]
  }
 ],
 "metadata": {
  "language_info": {
   "name": "python"
  }
 },
 "nbformat": 4,
 "nbformat_minor": 2
}
