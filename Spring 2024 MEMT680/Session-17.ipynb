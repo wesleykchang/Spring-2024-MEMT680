{
 "cells": [
  {
   "cell_type": "markdown",
   "metadata": {},
   "source": [
    "## Survey of energy storage technologies for grid storage\n",
    "\n",
    "### Li-ion and the Tesla Powerwall\n",
    "\n",
    "### Grid storage demands\n",
    "\n",
    "### Zinc-bromine flow batteries\n",
    "\n",
    "### Form and iron\n",
    "\n",
    "### Vanadium redox\n",
    "\n",
    "### Other flow batteries\n",
    "\n",
    "### Long duration storage without using batteries\n",
    "\n"
   ]
  }
 ],
 "metadata": {
  "language_info": {
   "name": "python"
  }
 },
 "nbformat": 4,
 "nbformat_minor": 2
}
