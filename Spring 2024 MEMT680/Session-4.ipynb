{
 "cells": [
  {
   "cell_type": "markdown",
   "metadata": {},
   "source": [
    "## The solid-electrolyte-interphase\n",
    "\n",
    "### Dey\n",
    "\n",
    "### Peled (1979) \n",
    "\n",
    "### Aurbach spectroscopic studies\n",
    "\n",
    "### Inorganic species\n",
    "\n",
    "### Organic species\n",
    "\n",
    "### Mosaic versus multilayered model\n",
    "\n",
    "### Cryogenic transmission electron microscopy\n",
    "\n",
    "### NMR studies\n",
    "\n",
    "### SEI of modern electrolytes \n",
    "\n",
    "### SEI of beyond-Li-ion batteries\n",
    "\n"
   ]
  }
 ],
 "metadata": {
  "language_info": {
   "name": "python"
  }
 },
 "nbformat": 4,
 "nbformat_minor": 2
}
