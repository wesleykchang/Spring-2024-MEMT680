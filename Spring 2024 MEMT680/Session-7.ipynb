{
 "cells": [
  {
   "cell_type": "markdown",
   "metadata": {},
   "source": [
    "## Session 7: Electrolytes, binders, and inactive materials\n",
    "\n",
    "### Electrolyte salts\n",
    "\n",
    "### Aprotic and non-aqueous electrolyte solvents\n",
    "\n",
    "### PC to EC \n",
    "\n",
    "### Additives\n",
    "\n",
    "### New salts\n",
    "\n",
    "### Fluorinated solvents; carbonates versus ethers \n",
    "\n",
    "### Binders\n",
    "\n",
    "### Conductive carbon "
   ]
  }
 ],
 "metadata": {
  "language_info": {
   "name": "python"
  }
 },
 "nbformat": 4,
 "nbformat_minor": 2
}
