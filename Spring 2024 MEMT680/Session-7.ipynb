{
 "cells": [
  {
   "cell_type": "markdown",
   "metadata": {},
   "source": [
    "## Session 7: Electrolytes, binders, and inactive materials\n",
    "\n",
    "### Electrolyte salts\n",
    "\n",
    "$LiAsF_6$\n",
    "\n",
    "$LiClO_4$\n",
    "\n",
    "$LiPF_6$\n",
    "\n",
    "$LiTFSI$ and $LiFSI$\n",
    "\n",
    "$LiDFOB$\n",
    "\n",
    "### Aprotic and non-aqueous electrolyte solvents\n",
    "\n",
    "Propylene carbonate\n",
    "\n",
    "Ethylene carbonate\n",
    "\n",
    "Dimethyl carbonate, diethyl carbonate\n",
    "\n",
    "Dimethoxyethane (glyme) and other ethers\n",
    "\n",
    "Fluorinated ethers\n",
    "\n",
    "### Additives\n",
    "\n",
    "Fluoroethylene carbonate\n",
    "\n",
    "Vinylene carbonate\n",
    "\n",
    "\n",
    "\n",
    "### Binders\n",
    "\n",
    "PVDF\n",
    "\n",
    "CMC and SBR\n",
    "\n",
    "### Conductive carbon "
   ]
  }
 ],
 "metadata": {
  "language_info": {
   "name": "python"
  }
 },
 "nbformat": 4,
 "nbformat_minor": 2
}
