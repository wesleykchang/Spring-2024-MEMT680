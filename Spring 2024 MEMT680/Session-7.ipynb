{
 "cells": [
  {
   "cell_type": "markdown",
   "metadata": {},
   "source": [
    "## Session 7: Electrolytes, binders, and inactive materials\n",
    "\n",
    "### Electrolyte salts\n",
    "\n",
    "- In early days, $LiAsF_6$ and $LiClO_4$ were used but the former is toxic and latter can lead to safety risks (perchlorates can be explosive). This led to $LiPF_6$ salts being more widely used. Today's commercial Li-ion batteries use electrolytes with $LiPF_6$. It should be noted that $LiPF_6$ is very sensitive to trace moisture and can produce HF gas. $LiPF_6$ also forms a passivating layer on the aluminum current collector. \n",
    "\n",
    "$LiTFSI$ and $LiFSI$ can also form stable SEI, and are thermally stable and conductive, but neither form good passivating films on the aluminum current collector. \n",
    "\n",
    "\n",
    "### Aprotic and non-aqueous electrolyte solvents\n",
    "\n",
    "Propylene carbonate\n",
    "\n",
    "Ethylene carbonate\n",
    "\n",
    "Dimethyl carbonate, diethyl carbonate\n",
    "\n",
    "Dimethoxyethane (glyme) and other ethers\n",
    "\n",
    "Fluorinated ethers\n",
    "\n",
    "### Additives\n",
    "\n",
    "Fluoroethylene carbonate\n",
    "\n",
    "Vinylene carbonate\n",
    "\n",
    "\n",
    "\n",
    "### Binders\n",
    "\n",
    "PVDF\n",
    "\n",
    "CMC and SBR\n",
    "\n",
    "### Conductive carbon "
   ]
  }
 ],
 "metadata": {
  "language_info": {
   "name": "python"
  }
 },
 "nbformat": 4,
 "nbformat_minor": 2
}
