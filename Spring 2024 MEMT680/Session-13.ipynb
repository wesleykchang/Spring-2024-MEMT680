{
 "cells": [
  {
   "cell_type": "markdown",
   "metadata": {},
   "source": [
    "## Solid-state electrolytes\n",
    "\n",
    "### Solid ion conductors\n",
    "\n",
    "### Garnets\n",
    "\n",
    "### Sulfides\n",
    "\n",
    "### Halides \n",
    "\n",
    "### Measuring ionic and electronic conductivity\n",
    "\n",
    "### Processing: annealing and sintering, densification \n",
    "\n",
    "### Mechanism of lithium penetration through solid electrolytes\n",
    "\n",
    "### Critical current density\n",
    "\n",
    "### Mechanical properties\n",
    "\n",
    "### Industry efforts and challenges\n",
    "\n"
   ]
  }
 ],
 "metadata": {
  "language_info": {
   "name": "python"
  }
 },
 "nbformat": 4,
 "nbformat_minor": 2
}
