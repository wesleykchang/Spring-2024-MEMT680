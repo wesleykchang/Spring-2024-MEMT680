{
 "cells": [
  {
   "cell_type": "markdown",
   "metadata": {},
   "source": [
    "## Li-ion battery positive electrodes\n",
    "\n",
    "Positive electrodes should have stable structures over a wide compositional range, as lithium is inserted (discharge) or de-inserted (charge). \n",
    "\n",
    "### Titanium disulfide\n",
    "\n",
    "### Lithium cobalt oxide\n",
    "\n",
    "The first commercial Li-ion  battery (Sony, 1991) used a graphite and LCO (layered oxide) couple. Surface reactivity and instability of delithiated LCO limits the practical capacity to ~140 mAh/g (or around x ~ 0.5). In other words, LCO can only be delithiated about halfway. \n",
    "\n",
    "### NCA, NMC \n",
    "\n",
    "NCA and NMC spinel electrodes are alternatives \n",
    "\n",
    "### LFP\n",
    "\n",
    "Lithium iron phosphate is an olivine-type electrode that is stable but has relatively low capacity (100 - 120 mAh/g, with theoretical capacity of 170 mAh/g)\n",
    "\n",
    "### Ni-rich and Li-rich\n",
    "\n",
    "### Sulfur \n",
    "\n",
    "### Conversion cathodes\n",
    "\n"
   ]
  }
 ],
 "metadata": {
  "language_info": {
   "name": "python"
  }
 },
 "nbformat": 4,
 "nbformat_minor": 2
}
