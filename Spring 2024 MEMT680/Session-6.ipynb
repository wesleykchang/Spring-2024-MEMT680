{
 "cells": [
  {
   "cell_type": "markdown",
   "metadata": {},
   "source": [
    "## Li-ion battery positive electrodes\n",
    "\n",
    "### Titanium disulfide\n",
    "\n",
    "### Lithium cobalt oxide\n",
    "\n",
    "### NCA, NMC \n",
    "\n",
    "### LFP\n",
    "\n",
    "### Ni-rich and Li-rich\n",
    "\n",
    "### Sulfur \n",
    "\n",
    "### Conversion cathodes\n",
    "\n"
   ]
  }
 ],
 "metadata": {
  "language_info": {
   "name": "python"
  }
 },
 "nbformat": 4,
 "nbformat_minor": 2
}
