{
 "cells": [
  {
   "cell_type": "markdown",
   "metadata": {},
   "source": [
    "## Battery characterization: electroanalytical techniques\n",
    "\n",
    "### Standard constant current constant voltage cycling\n",
    "\n",
    "### DCIR \n",
    "\n",
    "### EIS\n",
    "\n",
    "### GITT\n",
    "\n",
    "### dQ/dV \n",
    "\n",
    "### DST and HPPC for EV applications \n",
    "\n",
    "### Three-electrode measurements in R&D "
   ]
  }
 ],
 "metadata": {
  "language_info": {
   "name": "python"
  }
 },
 "nbformat": 4,
 "nbformat_minor": 2
}
