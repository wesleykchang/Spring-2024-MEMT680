{
 "cells": [
  {
   "cell_type": "markdown",
   "metadata": {},
   "source": [
    "## Battery characterization: electroanalytical techniques\n",
    "\n",
    "### EIS\n",
    "\n",
    "Electrochemical impedance spectroscopy (EIS) is an electroanalytical method where a potential or current with a small amplitude perturbation is applied.\n",
    "\n",
    "- The frequency $\\omega$) of this perturbation can be changed, to measure the resulting cell impedance (Z)\n",
    "\n",
    "- The cell impedance (Z) is related to anything that restricts current flow: electrical resistances (poor connections, passivating films), interfacial capacitances, mass transfer of reactants, and reaction kinetics. \n",
    "\n",
    "- Batteries and other electrochemical cells can be treated, or modeled, as a combination of circuits (the electrolyte acts as a resistor, the electrode/electrolyte interface acts as a capacitor).\n",
    "\n",
    "- The simplest unit is a resistor. The impedance of a resistor is: \n",
    "\n",
    "    Z = V/I = R  → This is a point on the Nyquist plot, which plots complex versus real impedance values at various values of frequency ($\\omega$). \n",
    "\n",
    "    $Z_{real}$ = constant, $Z_{imag}$ = 0\n",
    "\n",
    "\n",
    "- A capacitor is a vertical line on the y-axis. $Z_{real}\\ =\\ 0,\\ Z_{imag}\\ =\\ 1/(2\\pi*\\omega*C_d)$\n",
    "\n",
    "- A resistor and capacitor in series is a vertical line away from the y-axis. \n",
    "    $Z_{real}\\ =\\ 5,\\ Z_{imag}\\ =\\ 1/(2\\pi*\\omega*C_d)$\n",
    "\n",
    "- A capacitor and resistor in parallel is a semicircle that starts at 0. This is now getting closer to the behavior of an electrochemical interface. \n",
    "\n",
    "- The EIS curve depicted represents the Nyquist plot of a simple circuit that represents an electrochemical interface. Assuming the electrochemistry is simple, the equivalent circuit is comprised of a resistor in series with a parallel capacitor/resistor. The lone resistance can be attributed to an ohmic resistance, and the parallel capacitor/resistor an electrochemical interface that has capacitance and a charge transfer resistance.\n",
    "\n",
    "- A semicircle can be observed for a well behaved system, where the high frequency x-axis intercept is the ohmic resistance, and the diameter of the semicircle is the interfacial resistance. \n",
    "\n",
    "- In real systems such as batteries, EIS data generally gives a less-than-ideal semicircle due to the presence of many different interfaces. The charge transfer resistance can be estimated by modeling the semicircle. In real systems, the low frequency regime likely departs from the semicircle due to the influence of the Warburg impedance (diffusion processes). \n",
    "\n",
    "- EIS curves can be fit using equivalent circuit models. For instance, one could assume a resistor in series with a resistor + capacitor, and another resistor + capacitor. However, it is important to avoid over-fitting. \n",
    "\n",
    "\n"
   ]
  },
  {
   "cell_type": "code",
   "execution_count": 1,
   "metadata": {},
   "outputs": [
    {
     "data": {
      "image/png": "[encoded data removed]",
      "text/plain": [
       "<Figure size 640x480 with 1 Axes>"
      ]
     },
     "metadata": {},
     "output_type": "display_data"
    }
   ],
   "source": [
    "import numpy as np\n",
    "import pandas as pd\n",
    "import matplotlib.pyplot as plt\n",
    "\n",
    "R_ohmic = 0\n",
    "C_d = 0.1\n",
    "R_ct = 50\n",
    "omega = 0.01\n",
    "\n",
    "w = 10**(np.linspace(np.log10(1E6),np.log10(0.01)))\n",
    "# Z_real = R_ohmic + (R_ct + omega*w**(-0.5))/((1+C_d*omega*w**0.5)**2+w**2*C_d**2*(R_ct + omega*w**-0.5)**2)\n",
    "# Z_imag = (w*C_d*(R_ct+omega*w**-0.5)**2 + omega*w**-0.5*(w**0.5*C_d*omega + 1))/((1+w**0.5*C_d*omega)**2 + w**2*C_d**2*(R_ct + omega*w**-0.5)**2)\n",
    "fig1 = plt.figure()\n",
    "ax1 = fig1.add_subplot(111)\n",
    "\n",
    "for w in w:\n",
    "    Z_real = R_ohmic + R_ct/(1+w**2*C_d**2*R_ct**2)\n",
    "    Z_imag = (w*C_d*R_ct**2)/(1+w**2*C_d**2*R_ct**2)\n",
    "    # Z_real = 5\n",
    "    # Z_imag = 1/(2*np.pi*w*C_d)\n",
    "    ax1.scatter(Z_real, Z_imag, color = 'k', s=20)\n",
    "\n",
    "ax1.set_xlabel('Z_real (Ohms)')\n",
    "ax1.set_ylabel('-Z_imag (Ohms)')\n",
    "ax1.set_xlim(-2, 65)\n",
    "ax1.set_ylim(-2,65)\n",
    "\n",
    "plt.show()\n"
   ]
  },
  {
   "cell_type": "markdown",
   "metadata": {},
   "source": [
    "### GITT\n",
    "\n",
    "An electrochemical analysis technique used to measure kinetics. The technique uses a potentiostat to collect both transient (i.e. immediate iR drop when current is turned off) and steady-state measurements (i.e. when cell reaches equilibrium). Weppner and Huggins developed GITT in the 1970s for measuring solid state lithium ion diffusion coefficients. They used Li3Sb alloy as a test material, as it is a good approximation of one dimensional lithium ion diffusion into a bulk material, without phase transformations. After the cell voltage reached a steady-state value, current was pulsed to determine the effect on measured voltage (i.e. lithiate the electrode by a small amount and then measure how fast it takes the cell to reach equilibrium)\n",
    "\n",
    "$D\\ =\\ \\frac{4}{\\pi}(\\frac{m_B * V_m}{M_B*S})^2 (\\frac{\\Delta E_s}{\\tau * dE/d\\sqrt(t)})^2$\n",
    "\n",
    "![image.png](attachment:image.png)\n",
    "\n",
    "[Ref: https://pubs.acs.org/doi/full/10.1021/acs.jpcc.0c09972]\n",
    "\n",
    "### dQ/dV \n",
    "\n",
    "Differential voltage or differential capacity analysis takes the derivative of the battery voltage curves. Peaks in the differential voltage corresponding to electrode phase changes. Peak shifting towards higher voltages on charge could indicate loss of lithium inventory, due to lithium plating, electrolyte decomposition. dQ/dV is a common battery analytical technique to quickly detect changes in battery state-of-health. \n",
    "\n",
    "### DST and HPPC for EV applications \n",
    "\n",
    "Automotive application sometimes requires more extensive testing of battery rate capability, as EV operation sometimes requires rapid changes in rate (fast acceleration). The dynamic stress test (DST) and hybrid pulse power characterization (HPPC) test are two common techniques used in the automotive industry to validate battery performance. These tests involve rapid discharge (and charge) pulses to determine how such pulses impact battery performance. The exact protocol was standardized by the USABC in the 2000s. \n",
    "\n",
    "DST profile is shown below, indicating how controlled power discharge pulses impact cell cycling. \n",
    "\n",
    "![image-3.png](attachment:image-3.png)\n",
    "\n",
    "HPPC, as shown, is an extreme cycling protocol to determine the dynamic power capability over the entire voltage range. \n",
    "\n",
    "![image-2.png](attachment:image-2.png)"
   ]
  }
 ],
 "metadata": {
  "kernelspec": {
   "display_name": "wesleychang-voY7E120",
   "language": "python",
   "name": "python3"
  },
  "language_info": {
   "codemirror_mode": {
    "name": "ipython",
    "version": 3
   },
   "file_extension": ".py",
   "mimetype": "text/x-python",
   "name": "python",
   "nbconvert_exporter": "python",
   "pygments_lexer": "ipython3",
   "version": "3.8.10"
  }
 },
 "nbformat": 4,
 "nbformat_minor": 2
}
