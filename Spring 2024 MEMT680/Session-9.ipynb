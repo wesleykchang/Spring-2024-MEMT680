{
 "cells": [
  {
   "cell_type": "markdown",
   "metadata": {},
   "source": [
    "## Battery characterization: non-destructive methods\n",
    "\n",
    "### Basic measurements: thickness, stress and strain, temperature \n",
    "\n",
    "### X-ray CT \n",
    "\n",
    "### Ultrasound \n",
    "\n"
   ]
  }
 ],
 "metadata": {
  "language_info": {
   "name": "python"
  }
 },
 "nbformat": 4,
 "nbformat_minor": 2
}
