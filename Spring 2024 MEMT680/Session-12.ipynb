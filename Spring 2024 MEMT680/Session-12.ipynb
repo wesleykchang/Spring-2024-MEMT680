{
 "cells": [
  {
   "cell_type": "markdown",
   "metadata": {},
   "source": [
    "## Battery data analytics and reporting\n",
    "\n",
    "### Sizing up cells and packs: BatPac \n",
    "\n",
    "### Connecting academic research with industry standards\n",
    "\n",
    "### Example of battery cycling software \n",
    "\n",
    "### Example dataset analysis \n",
    "\n",
    "### Checkup cycles \n",
    "\n",
    "### In the lab: reproducibility \n",
    "\n",
    "### Joule reporting checklist, example \n",
    "\n"
   ]
  }
 ],
 "metadata": {
  "language_info": {
   "name": "python"
  }
 },
 "nbformat": 4,
 "nbformat_minor": 2
}
