{
 "cells": [
  {
   "cell_type": "markdown",
   "metadata": {},
   "source": [
    "## Brief Review of Thermodynamics for Batteries\n",
    "\n",
    "### Classical electrostatics\n",
    "\n",
    "### The electrochemical potential\n",
    "\n",
    "### Graphite phase diagram"
   ]
  }
 ],
 "metadata": {
  "language_info": {
   "name": "python"
  }
 },
 "nbformat": 4,
 "nbformat_minor": 2
}
